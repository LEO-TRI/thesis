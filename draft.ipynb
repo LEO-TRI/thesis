{
 "cells": [
  {
   "cell_type": "code",
   "execution_count": 9,
   "metadata": {},
   "outputs": [],
   "source": [
    "import numpy as np\n",
    "import plotly.graph_objects as go\n",
    "from scripts_thesis.graphs import *\n",
    "from sklearn.metrics import accuracy_score, f1_score, confusion_matrix, precision_score, RocCurveDisplay, auc, roc_curve\n",
    "\n",
    "%load_ext autoreload\n",
    "%autoreload 2\n",
    "\n",
    "x = np.linspace(0, 10, 100)\n",
    "data1 = np.sin(x)\n",
    "data2 = np.cos(x)\n"
   ]
  },
  {
   "cell_type": "code",
   "execution_count": null,
   "metadata": {},
   "outputs": [
    {
     "data": {
      "application/vnd.plotly.v1+json": {
       "config": {
        "plotlyServerURL": "https://plot.ly"
       },
       "data": [
        {
         "colorbar": {
          "title": {
           "text": "Proportion"
          }
         },
         "colorscale": [
          [
           0,
           "rgb(5,48,97)"
          ],
          [
           0.1,
           "rgb(33,102,172)"
          ],
          [
           0.2,
           "rgb(67,147,195)"
          ],
          [
           0.3,
           "rgb(146,197,222)"
          ],
          [
           0.4,
           "rgb(209,229,240)"
          ],
          [
           0.5,
           "rgb(247,247,247)"
          ],
          [
           0.6,
           "rgb(253,219,199)"
          ],
          [
           0.7,
           "rgb(244,165,130)"
          ],
          [
           0.8,
           "rgb(214,96,77)"
          ],
          [
           0.9,
           "rgb(178,24,43)"
          ],
          [
           1,
           "rgb(103,0,31)"
          ]
         ],
         "hoverongaps": false,
         "text": [
          [
           0.17,
           0.23
          ],
          [
           0.32,
           0.28
          ]
         ],
         "textfont": {
          "size": 16
         },
         "texttemplate": "%{text}%",
         "type": "heatmap",
         "x": [
          "0",
          "1"
         ],
         "y": [
          "0",
          "1"
         ],
         "z": [
          [
           0.17,
           0.23
          ],
          [
           0.32,
           0.28
          ]
         ]
        }
       ],
       "layout": {
        "font": {
         "color": "black",
         "family": "Arial"
        },
        "height": 600,
        "template": {
         "data": {
          "bar": [
           {
            "error_x": {
             "color": "#2a3f5f"
            },
            "error_y": {
             "color": "#2a3f5f"
            },
            "marker": {
             "line": {
              "color": "#E5ECF6",
              "width": 0.5
             },
             "pattern": {
              "fillmode": "overlay",
              "size": 10,
              "solidity": 0.2
             }
            },
            "type": "bar"
           }
          ],
          "barpolar": [
           {
            "marker": {
             "line": {
              "color": "#E5ECF6",
              "width": 0.5
             },
             "pattern": {
              "fillmode": "overlay",
              "size": 10,
              "solidity": 0.2
             }
            },
            "type": "barpolar"
           }
          ],
          "carpet": [
           {
            "aaxis": {
             "endlinecolor": "#2a3f5f",
             "gridcolor": "white",
             "linecolor": "white",
             "minorgridcolor": "white",
             "startlinecolor": "#2a3f5f"
            },
            "baxis": {
             "endlinecolor": "#2a3f5f",
             "gridcolor": "white",
             "linecolor": "white",
             "minorgridcolor": "white",
             "startlinecolor": "#2a3f5f"
            },
            "type": "carpet"
           }
          ],
          "choropleth": [
           {
            "colorbar": {
             "outlinewidth": 0,
             "ticks": ""
            },
            "type": "choropleth"
           }
          ],
          "contour": [
           {
            "colorbar": {
             "outlinewidth": 0,
             "ticks": ""
            },
            "colorscale": [
             [
              0,
              "#0d0887"
             ],
             [
              0.1111111111111111,
              "#46039f"
             ],
             [
              0.2222222222222222,
              "#7201a8"
             ],
             [
              0.3333333333333333,
              "#9c179e"
             ],
             [
              0.4444444444444444,
              "#bd3786"
             ],
             [
              0.5555555555555556,
              "#d8576b"
             ],
             [
              0.6666666666666666,
              "#ed7953"
             ],
             [
              0.7777777777777778,
              "#fb9f3a"
             ],
             [
              0.8888888888888888,
              "#fdca26"
             ],
             [
              1,
              "#f0f921"
             ]
            ],
            "type": "contour"
           }
          ],
          "contourcarpet": [
           {
            "colorbar": {
             "outlinewidth": 0,
             "ticks": ""
            },
            "type": "contourcarpet"
           }
          ],
          "heatmap": [
           {
            "colorbar": {
             "outlinewidth": 0,
             "ticks": ""
            },
            "colorscale": [
             [
              0,
              "#0d0887"
             ],
             [
              0.1111111111111111,
              "#46039f"
             ],
             [
              0.2222222222222222,
              "#7201a8"
             ],
             [
              0.3333333333333333,
              "#9c179e"
             ],
             [
              0.4444444444444444,
              "#bd3786"
             ],
             [
              0.5555555555555556,
              "#d8576b"
             ],
             [
              0.6666666666666666,
              "#ed7953"
             ],
             [
              0.7777777777777778,
              "#fb9f3a"
             ],
             [
              0.8888888888888888,
              "#fdca26"
             ],
             [
              1,
              "#f0f921"
             ]
            ],
            "type": "heatmap"
           }
          ],
          "heatmapgl": [
           {
            "colorbar": {
             "outlinewidth": 0,
             "ticks": ""
            },
            "colorscale": [
             [
              0,
              "#0d0887"
             ],
             [
              0.1111111111111111,
              "#46039f"
             ],
             [
              0.2222222222222222,
              "#7201a8"
             ],
             [
              0.3333333333333333,
              "#9c179e"
             ],
             [
              0.4444444444444444,
              "#bd3786"
             ],
             [
              0.5555555555555556,
              "#d8576b"
             ],
             [
              0.6666666666666666,
              "#ed7953"
             ],
             [
              0.7777777777777778,
              "#fb9f3a"
             ],
             [
              0.8888888888888888,
              "#fdca26"
             ],
             [
              1,
              "#f0f921"
             ]
            ],
            "type": "heatmapgl"
           }
          ],
          "histogram": [
           {
            "marker": {
             "pattern": {
              "fillmode": "overlay",
              "size": 10,
              "solidity": 0.2
             }
            },
            "type": "histogram"
           }
          ],
          "histogram2d": [
           {
            "colorbar": {
             "outlinewidth": 0,
             "ticks": ""
            },
            "colorscale": [
             [
              0,
              "#0d0887"
             ],
             [
              0.1111111111111111,
              "#46039f"
             ],
             [
              0.2222222222222222,
              "#7201a8"
             ],
             [
              0.3333333333333333,
              "#9c179e"
             ],
             [
              0.4444444444444444,
              "#bd3786"
             ],
             [
              0.5555555555555556,
              "#d8576b"
             ],
             [
              0.6666666666666666,
              "#ed7953"
             ],
             [
              0.7777777777777778,
              "#fb9f3a"
             ],
             [
              0.8888888888888888,
              "#fdca26"
             ],
             [
              1,
              "#f0f921"
             ]
            ],
            "type": "histogram2d"
           }
          ],
          "histogram2dcontour": [
           {
            "colorbar": {
             "outlinewidth": 0,
             "ticks": ""
            },
            "colorscale": [
             [
              0,
              "#0d0887"
             ],
             [
              0.1111111111111111,
              "#46039f"
             ],
             [
              0.2222222222222222,
              "#7201a8"
             ],
             [
              0.3333333333333333,
              "#9c179e"
             ],
             [
              0.4444444444444444,
              "#bd3786"
             ],
             [
              0.5555555555555556,
              "#d8576b"
             ],
             [
              0.6666666666666666,
              "#ed7953"
             ],
             [
              0.7777777777777778,
              "#fb9f3a"
             ],
             [
              0.8888888888888888,
              "#fdca26"
             ],
             [
              1,
              "#f0f921"
             ]
            ],
            "type": "histogram2dcontour"
           }
          ],
          "mesh3d": [
           {
            "colorbar": {
             "outlinewidth": 0,
             "ticks": ""
            },
            "type": "mesh3d"
           }
          ],
          "parcoords": [
           {
            "line": {
             "colorbar": {
              "outlinewidth": 0,
              "ticks": ""
             }
            },
            "type": "parcoords"
           }
          ],
          "pie": [
           {
            "automargin": true,
            "type": "pie"
           }
          ],
          "scatter": [
           {
            "fillpattern": {
             "fillmode": "overlay",
             "size": 10,
             "solidity": 0.2
            },
            "type": "scatter"
           }
          ],
          "scatter3d": [
           {
            "line": {
             "colorbar": {
              "outlinewidth": 0,
              "ticks": ""
             }
            },
            "marker": {
             "colorbar": {
              "outlinewidth": 0,
              "ticks": ""
             }
            },
            "type": "scatter3d"
           }
          ],
          "scattercarpet": [
           {
            "marker": {
             "colorbar": {
              "outlinewidth": 0,
              "ticks": ""
             }
            },
            "type": "scattercarpet"
           }
          ],
          "scattergeo": [
           {
            "marker": {
             "colorbar": {
              "outlinewidth": 0,
              "ticks": ""
             }
            },
            "type": "scattergeo"
           }
          ],
          "scattergl": [
           {
            "marker": {
             "colorbar": {
              "outlinewidth": 0,
              "ticks": ""
             }
            },
            "type": "scattergl"
           }
          ],
          "scattermapbox": [
           {
            "marker": {
             "colorbar": {
              "outlinewidth": 0,
              "ticks": ""
             }
            },
            "type": "scattermapbox"
           }
          ],
          "scatterpolar": [
           {
            "marker": {
             "colorbar": {
              "outlinewidth": 0,
              "ticks": ""
             }
            },
            "type": "scatterpolar"
           }
          ],
          "scatterpolargl": [
           {
            "marker": {
             "colorbar": {
              "outlinewidth": 0,
              "ticks": ""
             }
            },
            "type": "scatterpolargl"
           }
          ],
          "scatterternary": [
           {
            "marker": {
             "colorbar": {
              "outlinewidth": 0,
              "ticks": ""
             }
            },
            "type": "scatterternary"
           }
          ],
          "surface": [
           {
            "colorbar": {
             "outlinewidth": 0,
             "ticks": ""
            },
            "colorscale": [
             [
              0,
              "#0d0887"
             ],
             [
              0.1111111111111111,
              "#46039f"
             ],
             [
              0.2222222222222222,
              "#7201a8"
             ],
             [
              0.3333333333333333,
              "#9c179e"
             ],
             [
              0.4444444444444444,
              "#bd3786"
             ],
             [
              0.5555555555555556,
              "#d8576b"
             ],
             [
              0.6666666666666666,
              "#ed7953"
             ],
             [
              0.7777777777777778,
              "#fb9f3a"
             ],
             [
              0.8888888888888888,
              "#fdca26"
             ],
             [
              1,
              "#f0f921"
             ]
            ],
            "type": "surface"
           }
          ],
          "table": [
           {
            "cells": {
             "fill": {
              "color": "#EBF0F8"
             },
             "line": {
              "color": "white"
             }
            },
            "header": {
             "fill": {
              "color": "#C8D4E3"
             },
             "line": {
              "color": "white"
             }
            },
            "type": "table"
           }
          ]
         },
         "layout": {
          "annotationdefaults": {
           "arrowcolor": "#2a3f5f",
           "arrowhead": 0,
           "arrowwidth": 1
          },
          "autotypenumbers": "strict",
          "coloraxis": {
           "colorbar": {
            "outlinewidth": 0,
            "ticks": ""
           }
          },
          "colorscale": {
           "diverging": [
            [
             0,
             "#8e0152"
            ],
            [
             0.1,
             "#c51b7d"
            ],
            [
             0.2,
             "#de77ae"
            ],
            [
             0.3,
             "#f1b6da"
            ],
            [
             0.4,
             "#fde0ef"
            ],
            [
             0.5,
             "#f7f7f7"
            ],
            [
             0.6,
             "#e6f5d0"
            ],
            [
             0.7,
             "#b8e186"
            ],
            [
             0.8,
             "#7fbc41"
            ],
            [
             0.9,
             "#4d9221"
            ],
            [
             1,
             "#276419"
            ]
           ],
           "sequential": [
            [
             0,
             "#0d0887"
            ],
            [
             0.1111111111111111,
             "#46039f"
            ],
            [
             0.2222222222222222,
             "#7201a8"
            ],
            [
             0.3333333333333333,
             "#9c179e"
            ],
            [
             0.4444444444444444,
             "#bd3786"
            ],
            [
             0.5555555555555556,
             "#d8576b"
            ],
            [
             0.6666666666666666,
             "#ed7953"
            ],
            [
             0.7777777777777778,
             "#fb9f3a"
            ],
            [
             0.8888888888888888,
             "#fdca26"
            ],
            [
             1,
             "#f0f921"
            ]
           ],
           "sequentialminus": [
            [
             0,
             "#0d0887"
            ],
            [
             0.1111111111111111,
             "#46039f"
            ],
            [
             0.2222222222222222,
             "#7201a8"
            ],
            [
             0.3333333333333333,
             "#9c179e"
            ],
            [
             0.4444444444444444,
             "#bd3786"
            ],
            [
             0.5555555555555556,
             "#d8576b"
            ],
            [
             0.6666666666666666,
             "#ed7953"
            ],
            [
             0.7777777777777778,
             "#fb9f3a"
            ],
            [
             0.8888888888888888,
             "#fdca26"
            ],
            [
             1,
             "#f0f921"
            ]
           ]
          },
          "colorway": [
           "#636efa",
           "#EF553B",
           "#00cc96",
           "#ab63fa",
           "#FFA15A",
           "#19d3f3",
           "#FF6692",
           "#B6E880",
           "#FF97FF",
           "#FECB52"
          ],
          "font": {
           "color": "#2a3f5f"
          },
          "geo": {
           "bgcolor": "white",
           "lakecolor": "white",
           "landcolor": "#E5ECF6",
           "showlakes": true,
           "showland": true,
           "subunitcolor": "white"
          },
          "hoverlabel": {
           "align": "left"
          },
          "hovermode": "closest",
          "mapbox": {
           "style": "light"
          },
          "paper_bgcolor": "white",
          "plot_bgcolor": "#E5ECF6",
          "polar": {
           "angularaxis": {
            "gridcolor": "white",
            "linecolor": "white",
            "ticks": ""
           },
           "bgcolor": "#E5ECF6",
           "radialaxis": {
            "gridcolor": "white",
            "linecolor": "white",
            "ticks": ""
           }
          },
          "scene": {
           "xaxis": {
            "backgroundcolor": "#E5ECF6",
            "gridcolor": "white",
            "gridwidth": 2,
            "linecolor": "white",
            "showbackground": true,
            "ticks": "",
            "zerolinecolor": "white"
           },
           "yaxis": {
            "backgroundcolor": "#E5ECF6",
            "gridcolor": "white",
            "gridwidth": 2,
            "linecolor": "white",
            "showbackground": true,
            "ticks": "",
            "zerolinecolor": "white"
           },
           "zaxis": {
            "backgroundcolor": "#E5ECF6",
            "gridcolor": "white",
            "gridwidth": 2,
            "linecolor": "white",
            "showbackground": true,
            "ticks": "",
            "zerolinecolor": "white"
           }
          },
          "shapedefaults": {
           "line": {
            "color": "#2a3f5f"
           }
          },
          "ternary": {
           "aaxis": {
            "gridcolor": "white",
            "linecolor": "white",
            "ticks": ""
           },
           "baxis": {
            "gridcolor": "white",
            "linecolor": "white",
            "ticks": ""
           },
           "bgcolor": "#E5ECF6",
           "caxis": {
            "gridcolor": "white",
            "linecolor": "white",
            "ticks": ""
           }
          },
          "title": {
           "x": 0.05
          },
          "xaxis": {
           "automargin": true,
           "gridcolor": "white",
           "linecolor": "white",
           "ticks": "",
           "title": {
            "standoff": 15
           },
           "zerolinecolor": "white",
           "zerolinewidth": 2
          },
          "yaxis": {
           "automargin": true,
           "gridcolor": "white",
           "linecolor": "white",
           "ticks": "",
           "title": {
            "standoff": 15
           },
           "zerolinecolor": "white",
           "zerolinewidth": 2
          }
         }
        },
        "title": {
         "font": {
          "color": "black",
          "family": "Arial",
          "size": 20
         },
         "text": "Confusion Matrix : Overall results <br><sup>Accuracy: 0.45, F1: 0.46, Precision: 0.47</sup>"
        },
        "width": 600,
        "xaxis": {
         "title": {
          "text": "Predicted"
         }
        },
        "yaxis": {
         "title": {
          "text": "Actual"
         }
        }
       }
      }
     },
     "metadata": {},
     "output_type": "display_data"
    }
   ],
   "source": [
    "data1 = np.random.randint(0, 2, size=100)\n",
    "data2 = np.random.randint(0, 2, size=100)\n",
    "\n",
    "plot_confusion_matrix(data1, data2)"
   ]
  },
  {
   "cell_type": "code",
   "execution_count": null,
   "metadata": {},
   "outputs": [
    {
     "data": {
      "image/png": "[encoded data removed]",
      "text/plain": [
       "<Figure size 600x600 with 1 Axes>"
      ]
     },
     "metadata": {},
     "output_type": "display_data"
    }
   ],
   "source": [
    "data1 = [np.random.randint(0, 2, size=100) for _ in range(5)]\n",
    "data2 = [np.random.randint(0, 2, size=100) for _ in range(5)]\n",
    "\n",
    "from sklearn.metrics import accuracy_score, f1_score, confusion_matrix, precision_score, RocCurveDisplay, auc, roc_auc_score, roc_curve\n",
    "\n",
    "fig, ax = plt.subplots(figsize=(6, 6))\n",
    "\n",
    "for fold, (y_test, y_pred) in enumerate(zip(data1, data2)):\n",
    "\n",
    "    viz = RocCurveDisplay.from_predictions(\n",
    "        y_test,\n",
    "        y_pred,\n",
    "        alpha=0.3,\n",
    "        lw=1,\n",
    "        ax=ax)\n"
   ]
  },
  {
   "cell_type": "code",
   "execution_count": null,
   "metadata": {},
   "outputs": [
    {
     "data": {
      "text/plain": [
       "0.45967741935483863"
      ]
     },
     "execution_count": 118,
     "metadata": {},
     "output_type": "execute_result"
    }
   ],
   "source": [
    "roc_auc_score(data1[0], data2[0])\n"
   ]
  },
  {
   "cell_type": "code",
   "execution_count": null,
   "metadata": {},
   "outputs": [
    {
     "data": {
      "image/png": "[encoded data removed]",
      "text/plain": [
       "<Figure size 600x600 with 1 Axes>"
      ]
     },
     "metadata": {},
     "output_type": "display_data"
    },
    {
     "data": {
      "image/png": "[encoded data removed]",
      "text/plain": [
       "<Figure size 600x600 with 1 Axes>"
      ]
     },
     "execution_count": 114,
     "metadata": {},
     "output_type": "execute_result"
    }
   ],
   "source": [
    "auc_cross_val(data1, data2)"
   ]
  },
  {
   "cell_type": "code",
   "execution_count": 17,
   "metadata": {},
   "outputs": [
    {
     "data": {
      "application/vnd.plotly.v1+json": {
       "config": {
        "plotlyServerURL": "https://plot.ly"
       },
       "data": [
        {
         "mode": "lines",
         "type": "scatter",
         "x": [
          0,
          0.018867924528301886,
          0.05660377358490566,
          0.05660377358490566,
          0.07547169811320754,
          0.07547169811320754,
          0.09433962264150944,
          0.09433962264150944,
          0.1320754716981132,
          0.1320754716981132,
          0.16981132075471697,
          0.16981132075471697,
          0.2830188679245283,
          0.2830188679245283,
          0.32075471698113206,
          0.32075471698113206,
          0.33962264150943394,
          0.33962264150943394,
          0.37735849056603776,
          0.37735849056603776,
          0.39622641509433965,
          0.39622641509433965,
          0.4339622641509434,
          0.4339622641509434,
          0.49056603773584906,
          0.49056603773584906,
          0.5283018867924528,
          0.5283018867924528,
          0.6037735849056604,
          0.6037735849056604,
          0.6226415094339622,
          0.6226415094339622,
          0.6415094339622641,
          0.6415094339622641,
          0.6792452830188679,
          0.6792452830188679,
          0.6981132075471698,
          0.6981132075471698,
          0.7169811320754716,
          0.7169811320754716,
          0.7547169811320755,
          0.7547169811320755,
          0.7735849056603774,
          0.7735849056603774,
          0.8113207547169812,
          0.8113207547169812,
          0.8301886792452831,
          0.8301886792452831,
          0.9245283018867925,
          0.9245283018867925,
          0.9433962264150944,
          0.9433962264150944,
          0.9622641509433962,
          0.9622641509433962,
          0.9811320754716981,
          0.9811320754716981,
          1,
          1
         ],
         "y": [
          0,
          0,
          0,
          0.0425531914893617,
          0.0425531914893617,
          0.06382978723404255,
          0.06382978723404255,
          0.10638297872340426,
          0.10638297872340426,
          0.14893617021276595,
          0.14893617021276595,
          0.1702127659574468,
          0.1702127659574468,
          0.19148936170212766,
          0.19148936170212766,
          0.23404255319148937,
          0.23404255319148937,
          0.2553191489361702,
          0.2553191489361702,
          0.2765957446808511,
          0.2765957446808511,
          0.3191489361702128,
          0.3191489361702128,
          0.40425531914893614,
          0.40425531914893614,
          0.425531914893617,
          0.425531914893617,
          0.46808510638297873,
          0.46808510638297873,
          0.5106382978723404,
          0.5106382978723404,
          0.5319148936170213,
          0.5319148936170213,
          0.5531914893617021,
          0.5531914893617021,
          0.574468085106383,
          0.574468085106383,
          0.6170212765957447,
          0.6170212765957447,
          0.6595744680851063,
          0.6595744680851063,
          0.6808510638297872,
          0.6808510638297872,
          0.7021276595744681,
          0.7021276595744681,
          0.7446808510638298,
          0.7446808510638298,
          0.7659574468085106,
          0.7659574468085106,
          0.7872340425531915,
          0.7872340425531915,
          0.8085106382978723,
          0.8085106382978723,
          0.8936170212765957,
          0.8936170212765957,
          0.9361702127659575,
          0.9361702127659575,
          1
         ]
        },
        {
         "mode": "lines",
         "type": "scatter",
         "x": [
          0,
          0,
          0,
          0.058823529411764705,
          0.058823529411764705,
          0.11764705882352941,
          0.11764705882352941,
          0.13725490196078433,
          0.13725490196078433,
          0.1568627450980392,
          0.1568627450980392,
          0.17647058823529413,
          0.17647058823529413,
          0.23529411764705882,
          0.23529411764705882,
          0.2549019607843137,
          0.2549019607843137,
          0.27450980392156865,
          0.27450980392156865,
          0.3137254901960784,
          0.3137254901960784,
          0.3333333333333333,
          0.3333333333333333,
          0.4117647058823529,
          0.4117647058823529,
          0.45098039215686275,
          0.45098039215686275,
          0.49019607843137253,
          0.49019607843137253,
          0.5098039215686274,
          0.5098039215686274,
          0.5490196078431373,
          0.5490196078431373,
          0.5686274509803921,
          0.5686274509803921,
          0.6274509803921569,
          0.6274509803921569,
          0.6470588235294118,
          0.6470588235294118,
          0.7254901960784313,
          0.7254901960784313,
          0.7450980392156863,
          0.7450980392156863,
          0.7843137254901961,
          0.7843137254901961,
          0.803921568627451,
          0.803921568627451,
          0.8235294117647058,
          0.8235294117647058,
          0.8431372549019608,
          0.8431372549019608,
          0.9019607843137255,
          0.9019607843137255,
          0.9215686274509803,
          0.9215686274509803,
          1
         ],
         "y": [
          0,
          0.02040816326530612,
          0.061224489795918366,
          0.061224489795918366,
          0.10204081632653061,
          0.10204081632653061,
          0.12244897959183673,
          0.12244897959183673,
          0.1836734693877551,
          0.1836734693877551,
          0.24489795918367346,
          0.24489795918367346,
          0.2653061224489796,
          0.2653061224489796,
          0.2857142857142857,
          0.2857142857142857,
          0.30612244897959184,
          0.30612244897959184,
          0.3673469387755102,
          0.3673469387755102,
          0.3877551020408163,
          0.3877551020408163,
          0.40816326530612246,
          0.40816326530612246,
          0.42857142857142855,
          0.42857142857142855,
          0.46938775510204084,
          0.46938775510204084,
          0.4897959183673469,
          0.4897959183673469,
          0.5102040816326531,
          0.5102040816326531,
          0.5510204081632653,
          0.5510204081632653,
          0.6122448979591837,
          0.6122448979591837,
          0.6938775510204082,
          0.6938775510204082,
          0.7142857142857143,
          0.7142857142857143,
          0.7346938775510204,
          0.7346938775510204,
          0.7551020408163265,
          0.7551020408163265,
          0.7755102040816326,
          0.7755102040816326,
          0.8163265306122449,
          0.8163265306122449,
          0.8979591836734694,
          0.8979591836734694,
          0.9183673469387755,
          0.9183673469387755,
          0.9387755102040817,
          0.9387755102040817,
          1,
          1
         ]
        },
        {
         "mode": "lines",
         "type": "scatter",
         "x": [
          0,
          0,
          0.02,
          0.02,
          0.04,
          0.04,
          0.08,
          0.08,
          0.18,
          0.18,
          0.22,
          0.22,
          0.24,
          0.24,
          0.28,
          0.28,
          0.3,
          0.3,
          0.42,
          0.42,
          0.44,
          0.44,
          0.5,
          0.5,
          0.52,
          0.52,
          0.54,
          0.54,
          0.56,
          0.56,
          0.58,
          0.58,
          0.6,
          0.6,
          0.62,
          0.62,
          0.66,
          0.66,
          0.68,
          0.68,
          0.7,
          0.7,
          0.84,
          0.84,
          0.88,
          0.88,
          0.96,
          0.96,
          1
         ],
         "y": [
          0,
          0.02,
          0.02,
          0.06,
          0.06,
          0.08,
          0.08,
          0.14,
          0.14,
          0.18,
          0.18,
          0.2,
          0.2,
          0.24,
          0.24,
          0.26,
          0.26,
          0.28,
          0.28,
          0.36,
          0.36,
          0.42,
          0.42,
          0.48,
          0.48,
          0.5,
          0.5,
          0.52,
          0.52,
          0.56,
          0.56,
          0.58,
          0.58,
          0.68,
          0.68,
          0.72,
          0.72,
          0.74,
          0.74,
          0.8,
          0.8,
          0.82,
          0.82,
          0.88,
          0.88,
          0.96,
          0.96,
          1,
          1
         ]
        },
        {
         "mode": "lines",
         "type": "scatter",
         "x": [
          0,
          0,
          0.06,
          0.06,
          0.16,
          0.16,
          0.18,
          0.18,
          0.2,
          0.2,
          0.26,
          0.26,
          0.3,
          0.3,
          0.32,
          0.32,
          0.34,
          0.34,
          0.36,
          0.36,
          0.38,
          0.38,
          0.44,
          0.44,
          0.48,
          0.48,
          0.5,
          0.5,
          0.52,
          0.52,
          0.58,
          0.58,
          0.62,
          0.62,
          0.66,
          0.66,
          0.68,
          0.68,
          0.74,
          0.74,
          0.8,
          0.8,
          0.82,
          0.82,
          0.98,
          0.98,
          1
         ],
         "y": [
          0,
          0.02,
          0.02,
          0.06,
          0.06,
          0.08,
          0.08,
          0.12,
          0.12,
          0.24,
          0.24,
          0.3,
          0.3,
          0.36,
          0.36,
          0.4,
          0.4,
          0.5,
          0.5,
          0.56,
          0.56,
          0.58,
          0.58,
          0.64,
          0.64,
          0.66,
          0.66,
          0.68,
          0.68,
          0.7,
          0.7,
          0.72,
          0.72,
          0.8,
          0.8,
          0.88,
          0.88,
          0.92,
          0.92,
          0.94,
          0.94,
          0.96,
          0.96,
          0.98,
          0.98,
          1,
          1
         ]
        },
        {
         "mode": "lines",
         "type": "scatter",
         "x": [
          0,
          0,
          0.09090909090909091,
          0.09090909090909091,
          0.11363636363636363,
          0.11363636363636363,
          0.13636363636363635,
          0.13636363636363635,
          0.1590909090909091,
          0.1590909090909091,
          0.18181818181818182,
          0.18181818181818182,
          0.22727272727272727,
          0.22727272727272727,
          0.25,
          0.25,
          0.2727272727272727,
          0.2727272727272727,
          0.29545454545454547,
          0.29545454545454547,
          0.3409090909090909,
          0.3409090909090909,
          0.4090909090909091,
          0.4090909090909091,
          0.5454545454545454,
          0.5454545454545454,
          0.5681818181818182,
          0.5681818181818182,
          0.6136363636363636,
          0.6136363636363636,
          0.6363636363636364,
          0.6363636363636364,
          0.6818181818181818,
          0.6818181818181818,
          0.7272727272727273,
          0.7272727272727273,
          0.7954545454545454,
          0.7954545454545454,
          0.8636363636363636,
          0.8636363636363636,
          0.8863636363636364,
          0.8863636363636364,
          0.9318181818181818,
          0.9318181818181818,
          0.9772727272727273,
          0.9772727272727273,
          1,
          1
         ],
         "y": [
          0,
          0.017857142857142856,
          0.017857142857142856,
          0.05357142857142857,
          0.05357142857142857,
          0.16071428571428573,
          0.16071428571428573,
          0.23214285714285715,
          0.23214285714285715,
          0.26785714285714285,
          0.26785714285714285,
          0.2857142857142857,
          0.2857142857142857,
          0.375,
          0.375,
          0.42857142857142855,
          0.42857142857142855,
          0.4642857142857143,
          0.4642857142857143,
          0.48214285714285715,
          0.48214285714285715,
          0.5,
          0.5,
          0.5535714285714286,
          0.5535714285714286,
          0.5714285714285714,
          0.5714285714285714,
          0.5892857142857143,
          0.5892857142857143,
          0.6071428571428571,
          0.6071428571428571,
          0.6785714285714286,
          0.6785714285714286,
          0.6964285714285714,
          0.6964285714285714,
          0.7321428571428571,
          0.7321428571428571,
          0.8392857142857143,
          0.8392857142857143,
          0.8571428571428571,
          0.8571428571428571,
          0.8928571428571429,
          0.8928571428571429,
          0.9107142857142857,
          0.9107142857142857,
          0.9464285714285714,
          0.9464285714285714,
          1
         ]
        }
       ],
       "layout": {
        "template": {
         "data": {
          "bar": [
           {
            "error_x": {
             "color": "#2a3f5f"
            },
            "error_y": {
             "color": "#2a3f5f"
            },
            "marker": {
             "line": {
              "color": "#E5ECF6",
              "width": 0.5
             },
             "pattern": {
              "fillmode": "overlay",
              "size": 10,
              "solidity": 0.2
             }
            },
            "type": "bar"
           }
          ],
          "barpolar": [
           {
            "marker": {
             "line": {
              "color": "#E5ECF6",
              "width": 0.5
             },
             "pattern": {
              "fillmode": "overlay",
              "size": 10,
              "solidity": 0.2
             }
            },
            "type": "barpolar"
           }
          ],
          "carpet": [
           {
            "aaxis": {
             "endlinecolor": "#2a3f5f",
             "gridcolor": "white",
             "linecolor": "white",
             "minorgridcolor": "white",
             "startlinecolor": "#2a3f5f"
            },
            "baxis": {
             "endlinecolor": "#2a3f5f",
             "gridcolor": "white",
             "linecolor": "white",
             "minorgridcolor": "white",
             "startlinecolor": "#2a3f5f"
            },
            "type": "carpet"
           }
          ],
          "choropleth": [
           {
            "colorbar": {
             "outlinewidth": 0,
             "ticks": ""
            },
            "type": "choropleth"
           }
          ],
          "contour": [
           {
            "colorbar": {
             "outlinewidth": 0,
             "ticks": ""
            },
            "colorscale": [
             [
              0,
              "#0d0887"
             ],
             [
              0.1111111111111111,
              "#46039f"
             ],
             [
              0.2222222222222222,
              "#7201a8"
             ],
             [
              0.3333333333333333,
              "#9c179e"
             ],
             [
              0.4444444444444444,
              "#bd3786"
             ],
             [
              0.5555555555555556,
              "#d8576b"
             ],
             [
              0.6666666666666666,
              "#ed7953"
             ],
             [
              0.7777777777777778,
              "#fb9f3a"
             ],
             [
              0.8888888888888888,
              "#fdca26"
             ],
             [
              1,
              "#f0f921"
             ]
            ],
            "type": "contour"
           }
          ],
          "contourcarpet": [
           {
            "colorbar": {
             "outlinewidth": 0,
             "ticks": ""
            },
            "type": "contourcarpet"
           }
          ],
          "heatmap": [
           {
            "colorbar": {
             "outlinewidth": 0,
             "ticks": ""
            },
            "colorscale": [
             [
              0,
              "#0d0887"
             ],
             [
              0.1111111111111111,
              "#46039f"
             ],
             [
              0.2222222222222222,
              "#7201a8"
             ],
             [
              0.3333333333333333,
              "#9c179e"
             ],
             [
              0.4444444444444444,
              "#bd3786"
             ],
             [
              0.5555555555555556,
              "#d8576b"
             ],
             [
              0.6666666666666666,
              "#ed7953"
             ],
             [
              0.7777777777777778,
              "#fb9f3a"
             ],
             [
              0.8888888888888888,
              "#fdca26"
             ],
             [
              1,
              "#f0f921"
             ]
            ],
            "type": "heatmap"
           }
          ],
          "heatmapgl": [
           {
            "colorbar": {
             "outlinewidth": 0,
             "ticks": ""
            },
            "colorscale": [
             [
              0,
              "#0d0887"
             ],
             [
              0.1111111111111111,
              "#46039f"
             ],
             [
              0.2222222222222222,
              "#7201a8"
             ],
             [
              0.3333333333333333,
              "#9c179e"
             ],
             [
              0.4444444444444444,
              "#bd3786"
             ],
             [
              0.5555555555555556,
              "#d8576b"
             ],
             [
              0.6666666666666666,
              "#ed7953"
             ],
             [
              0.7777777777777778,
              "#fb9f3a"
             ],
             [
              0.8888888888888888,
              "#fdca26"
             ],
             [
              1,
              "#f0f921"
             ]
            ],
            "type": "heatmapgl"
           }
          ],
          "histogram": [
           {
            "marker": {
             "pattern": {
              "fillmode": "overlay",
              "size": 10,
              "solidity": 0.2
             }
            },
            "type": "histogram"
           }
          ],
          "histogram2d": [
           {
            "colorbar": {
             "outlinewidth": 0,
             "ticks": ""
            },
            "colorscale": [
             [
              0,
              "#0d0887"
             ],
             [
              0.1111111111111111,
              "#46039f"
             ],
             [
              0.2222222222222222,
              "#7201a8"
             ],
             [
              0.3333333333333333,
              "#9c179e"
             ],
             [
              0.4444444444444444,
              "#bd3786"
             ],
             [
              0.5555555555555556,
              "#d8576b"
             ],
             [
              0.6666666666666666,
              "#ed7953"
             ],
             [
              0.7777777777777778,
              "#fb9f3a"
             ],
             [
              0.8888888888888888,
              "#fdca26"
             ],
             [
              1,
              "#f0f921"
             ]
            ],
            "type": "histogram2d"
           }
          ],
          "histogram2dcontour": [
           {
            "colorbar": {
             "outlinewidth": 0,
             "ticks": ""
            },
            "colorscale": [
             [
              0,
              "#0d0887"
             ],
             [
              0.1111111111111111,
              "#46039f"
             ],
             [
              0.2222222222222222,
              "#7201a8"
             ],
             [
              0.3333333333333333,
              "#9c179e"
             ],
             [
              0.4444444444444444,
              "#bd3786"
             ],
             [
              0.5555555555555556,
              "#d8576b"
             ],
             [
              0.6666666666666666,
              "#ed7953"
             ],
             [
              0.7777777777777778,
              "#fb9f3a"
             ],
             [
              0.8888888888888888,
              "#fdca26"
             ],
             [
              1,
              "#f0f921"
             ]
            ],
            "type": "histogram2dcontour"
           }
          ],
          "mesh3d": [
           {
            "colorbar": {
             "outlinewidth": 0,
             "ticks": ""
            },
            "type": "mesh3d"
           }
          ],
          "parcoords": [
           {
            "line": {
             "colorbar": {
              "outlinewidth": 0,
              "ticks": ""
             }
            },
            "type": "parcoords"
           }
          ],
          "pie": [
           {
            "automargin": true,
            "type": "pie"
           }
          ],
          "scatter": [
           {
            "fillpattern": {
             "fillmode": "overlay",
             "size": 10,
             "solidity": 0.2
            },
            "type": "scatter"
           }
          ],
          "scatter3d": [
           {
            "line": {
             "colorbar": {
              "outlinewidth": 0,
              "ticks": ""
             }
            },
            "marker": {
             "colorbar": {
              "outlinewidth": 0,
              "ticks": ""
             }
            },
            "type": "scatter3d"
           }
          ],
          "scattercarpet": [
           {
            "marker": {
             "colorbar": {
              "outlinewidth": 0,
              "ticks": ""
             }
            },
            "type": "scattercarpet"
           }
          ],
          "scattergeo": [
           {
            "marker": {
             "colorbar": {
              "outlinewidth": 0,
              "ticks": ""
             }
            },
            "type": "scattergeo"
           }
          ],
          "scattergl": [
           {
            "marker": {
             "colorbar": {
              "outlinewidth": 0,
              "ticks": ""
             }
            },
            "type": "scattergl"
           }
          ],
          "scattermapbox": [
           {
            "marker": {
             "colorbar": {
              "outlinewidth": 0,
              "ticks": ""
             }
            },
            "type": "scattermapbox"
           }
          ],
          "scatterpolar": [
           {
            "marker": {
             "colorbar": {
              "outlinewidth": 0,
              "ticks": ""
             }
            },
            "type": "scatterpolar"
           }
          ],
          "scatterpolargl": [
           {
            "marker": {
             "colorbar": {
              "outlinewidth": 0,
              "ticks": ""
             }
            },
            "type": "scatterpolargl"
           }
          ],
          "scatterternary": [
           {
            "marker": {
             "colorbar": {
              "outlinewidth": 0,
              "ticks": ""
             }
            },
            "type": "scatterternary"
           }
          ],
          "surface": [
           {
            "colorbar": {
             "outlinewidth": 0,
             "ticks": ""
            },
            "colorscale": [
             [
              0,
              "#0d0887"
             ],
             [
              0.1111111111111111,
              "#46039f"
             ],
             [
              0.2222222222222222,
              "#7201a8"
             ],
             [
              0.3333333333333333,
              "#9c179e"
             ],
             [
              0.4444444444444444,
              "#bd3786"
             ],
             [
              0.5555555555555556,
              "#d8576b"
             ],
             [
              0.6666666666666666,
              "#ed7953"
             ],
             [
              0.7777777777777778,
              "#fb9f3a"
             ],
             [
              0.8888888888888888,
              "#fdca26"
             ],
             [
              1,
              "#f0f921"
             ]
            ],
            "type": "surface"
           }
          ],
          "table": [
           {
            "cells": {
             "fill": {
              "color": "#EBF0F8"
             },
             "line": {
              "color": "white"
             }
            },
            "header": {
             "fill": {
              "color": "#C8D4E3"
             },
             "line": {
              "color": "white"
             }
            },
            "type": "table"
           }
          ]
         },
         "layout": {
          "annotationdefaults": {
           "arrowcolor": "#2a3f5f",
           "arrowhead": 0,
           "arrowwidth": 1
          },
          "autotypenumbers": "strict",
          "coloraxis": {
           "colorbar": {
            "outlinewidth": 0,
            "ticks": ""
           }
          },
          "colorscale": {
           "diverging": [
            [
             0,
             "#8e0152"
            ],
            [
             0.1,
             "#c51b7d"
            ],
            [
             0.2,
             "#de77ae"
            ],
            [
             0.3,
             "#f1b6da"
            ],
            [
             0.4,
             "#fde0ef"
            ],
            [
             0.5,
             "#f7f7f7"
            ],
            [
             0.6,
             "#e6f5d0"
            ],
            [
             0.7,
             "#b8e186"
            ],
            [
             0.8,
             "#7fbc41"
            ],
            [
             0.9,
             "#4d9221"
            ],
            [
             1,
             "#276419"
            ]
           ],
           "sequential": [
            [
             0,
             "#0d0887"
            ],
            [
             0.1111111111111111,
             "#46039f"
            ],
            [
             0.2222222222222222,
             "#7201a8"
            ],
            [
             0.3333333333333333,
             "#9c179e"
            ],
            [
             0.4444444444444444,
             "#bd3786"
            ],
            [
             0.5555555555555556,
             "#d8576b"
            ],
            [
             0.6666666666666666,
             "#ed7953"
            ],
            [
             0.7777777777777778,
             "#fb9f3a"
            ],
            [
             0.8888888888888888,
             "#fdca26"
            ],
            [
             1,
             "#f0f921"
            ]
           ],
           "sequentialminus": [
            [
             0,
             "#0d0887"
            ],
            [
             0.1111111111111111,
             "#46039f"
            ],
            [
             0.2222222222222222,
             "#7201a8"
            ],
            [
             0.3333333333333333,
             "#9c179e"
            ],
            [
             0.4444444444444444,
             "#bd3786"
            ],
            [
             0.5555555555555556,
             "#d8576b"
            ],
            [
             0.6666666666666666,
             "#ed7953"
            ],
            [
             0.7777777777777778,
             "#fb9f3a"
            ],
            [
             0.8888888888888888,
             "#fdca26"
            ],
            [
             1,
             "#f0f921"
            ]
           ]
          },
          "colorway": [
           "#636efa",
           "#EF553B",
           "#00cc96",
           "#ab63fa",
           "#FFA15A",
           "#19d3f3",
           "#FF6692",
           "#B6E880",
           "#FF97FF",
           "#FECB52"
          ],
          "font": {
           "color": "#2a3f5f"
          },
          "geo": {
           "bgcolor": "white",
           "lakecolor": "white",
           "landcolor": "#E5ECF6",
           "showlakes": true,
           "showland": true,
           "subunitcolor": "white"
          },
          "hoverlabel": {
           "align": "left"
          },
          "hovermode": "closest",
          "mapbox": {
           "style": "light"
          },
          "paper_bgcolor": "white",
          "plot_bgcolor": "#E5ECF6",
          "polar": {
           "angularaxis": {
            "gridcolor": "white",
            "linecolor": "white",
            "ticks": ""
           },
           "bgcolor": "#E5ECF6",
           "radialaxis": {
            "gridcolor": "white",
            "linecolor": "white",
            "ticks": ""
           }
          },
          "scene": {
           "xaxis": {
            "backgroundcolor": "#E5ECF6",
            "gridcolor": "white",
            "gridwidth": 2,
            "linecolor": "white",
            "showbackground": true,
            "ticks": "",
            "zerolinecolor": "white"
           },
           "yaxis": {
            "backgroundcolor": "#E5ECF6",
            "gridcolor": "white",
            "gridwidth": 2,
            "linecolor": "white",
            "showbackground": true,
            "ticks": "",
            "zerolinecolor": "white"
           },
           "zaxis": {
            "backgroundcolor": "#E5ECF6",
            "gridcolor": "white",
            "gridwidth": 2,
            "linecolor": "white",
            "showbackground": true,
            "ticks": "",
            "zerolinecolor": "white"
           }
          },
          "shapedefaults": {
           "line": {
            "color": "#2a3f5f"
           }
          },
          "ternary": {
           "aaxis": {
            "gridcolor": "white",
            "linecolor": "white",
            "ticks": ""
           },
           "baxis": {
            "gridcolor": "white",
            "linecolor": "white",
            "ticks": ""
           },
           "bgcolor": "#E5ECF6",
           "caxis": {
            "gridcolor": "white",
            "linecolor": "white",
            "ticks": ""
           }
          },
          "title": {
           "x": 0.05
          },
          "xaxis": {
           "automargin": true,
           "gridcolor": "white",
           "linecolor": "white",
           "ticks": "",
           "title": {
            "standoff": 15
           },
           "zerolinecolor": "white",
           "zerolinewidth": 2
          },
          "yaxis": {
           "automargin": true,
           "gridcolor": "white",
           "linecolor": "white",
           "ticks": "",
           "title": {
            "standoff": 15
           },
           "zerolinecolor": "white",
           "zerolinewidth": 2
          }
         }
        }
       }
      }
     },
     "metadata": {},
     "output_type": "display_data"
    }
   ],
   "source": [
    "data1 = [np.random.randint(0, 2, size=100) for _ in range(5)]\n",
    "data2 = [np.random.random(size=100) for _ in range(5)]\n",
    "\n",
    "fig = go.Figure()\n",
    "\n",
    "for fold, (y_test, y_pred) in enumerate(zip(data1, data2)):\n",
    "        \n",
    "        fpr, tpr, thresholds = roc_curve(y_test, y_pred, pos_label=1)\n",
    "        roc_auc = auc(fpr, tpr)\n",
    "\n",
    "        fig.add_trace(go.Scatter(x=fpr,\n",
    "                                 y=tpr,\n",
    "                                 mode='lines',\n",
    "                                 )\n",
    "        )\n",
    "fig.show()"
   ]
  },
  {
   "cell_type": "code",
   "execution_count": 13,
   "metadata": {},
   "outputs": [
    {
     "data": {
      "text/plain": [
       "((array([0.        , 0.09259259, 1.        ]),\n",
       "  array([0., 1., 1.]),\n",
       "  array([2, 1, 0])),\n",
       " <sklearn.metrics._plot.roc_curve.RocCurveDisplay at 0x2160a7eced0>)"
      ]
     },
     "execution_count": 13,
     "metadata": {},
     "output_type": "execute_result"
    },
    {
     "data": {
      "image/png": "[encoded data removed]",
      "text/plain": [
       "<Figure size 800x800 with 1 Axes>"
      ]
     },
     "metadata": {},
     "output_type": "display_data"
    }
   ],
   "source": [
    "data1 = np.sort(np.random.randint(0, 2, size=100))\n",
    "data2 = np.sort(np.random.randint(0, 2, size=100))    \n",
    "\n",
    "roc_curve(data1, data2), RocCurveDisplay.from_predictions(data1, data2)"
   ]
  },
  {
   "cell_type": "code",
   "execution_count": 16,
   "metadata": {},
   "outputs": [
    {
     "data": {
      "text/html": [
       "<style>#sk-container-id-7 {color: black;background-color: white;}#sk-container-id-7 pre{padding: 0;}#sk-container-id-7 div.sk-toggleable {background-color: white;}#sk-container-id-7 label.sk-toggleable__label {cursor: pointer;display: block;width: 100%;margin-bottom: 0;padding: 0.3em;box-sizing: border-box;text-align: center;}#sk-container-id-7 label.sk-toggleable__label-arrow:before {content: \"▸\";float: left;margin-right: 0.25em;color: #696969;}#sk-container-id-7 label.sk-toggleable__label-arrow:hover:before {color: black;}#sk-container-id-7 div.sk-estimator:hover label.sk-toggleable__label-arrow:before {color: black;}#sk-container-id-7 div.sk-toggleable__content {max-height: 0;max-width: 0;overflow: hidden;text-align: left;background-color: #f0f8ff;}#sk-container-id-7 div.sk-toggleable__content pre {margin: 0.2em;color: black;border-radius: 0.25em;background-color: #f0f8ff;}#sk-container-id-7 input.sk-toggleable__control:checked~div.sk-toggleable__content {max-height: 200px;max-width: 100%;overflow: auto;}#sk-container-id-7 input.sk-toggleable__control:checked~label.sk-toggleable__label-arrow:before {content: \"▾\";}#sk-container-id-7 div.sk-estimator input.sk-toggleable__control:checked~label.sk-toggleable__label {background-color: #d4ebff;}#sk-container-id-7 div.sk-label input.sk-toggleable__control:checked~label.sk-toggleable__label {background-color: #d4ebff;}#sk-container-id-7 input.sk-hidden--visually {border: 0;clip: rect(1px 1px 1px 1px);clip: rect(1px, 1px, 1px, 1px);height: 1px;margin: -1px;overflow: hidden;padding: 0;position: absolute;width: 1px;}#sk-container-id-7 div.sk-estimator {font-family: monospace;background-color: #f0f8ff;border: 1px dotted black;border-radius: 0.25em;box-sizing: border-box;margin-bottom: 0.5em;}#sk-container-id-7 div.sk-estimator:hover {background-color: #d4ebff;}#sk-container-id-7 div.sk-parallel-item::after {content: \"\";width: 100%;border-bottom: 1px solid gray;flex-grow: 1;}#sk-container-id-7 div.sk-label:hover label.sk-toggleable__label {background-color: #d4ebff;}#sk-container-id-7 div.sk-serial::before {content: \"\";position: absolute;border-left: 1px solid gray;box-sizing: border-box;top: 0;bottom: 0;left: 50%;z-index: 0;}#sk-container-id-7 div.sk-serial {display: flex;flex-direction: column;align-items: center;background-color: white;padding-right: 0.2em;padding-left: 0.2em;position: relative;}#sk-container-id-7 div.sk-item {position: relative;z-index: 1;}#sk-container-id-7 div.sk-parallel {display: flex;align-items: stretch;justify-content: center;background-color: white;position: relative;}#sk-container-id-7 div.sk-item::before, #sk-container-id-7 div.sk-parallel-item::before {content: \"\";position: absolute;border-left: 1px solid gray;box-sizing: border-box;top: 0;bottom: 0;left: 50%;z-index: -1;}#sk-container-id-7 div.sk-parallel-item {display: flex;flex-direction: column;z-index: 1;position: relative;background-color: white;}#sk-container-id-7 div.sk-parallel-item:first-child::after {align-self: flex-end;width: 50%;}#sk-container-id-7 div.sk-parallel-item:last-child::after {align-self: flex-start;width: 50%;}#sk-container-id-7 div.sk-parallel-item:only-child::after {width: 0;}#sk-container-id-7 div.sk-dashed-wrapped {border: 1px dashed gray;margin: 0 0.4em 0.5em 0.4em;box-sizing: border-box;padding-bottom: 0.4em;background-color: white;}#sk-container-id-7 div.sk-label label {font-family: monospace;font-weight: bold;display: inline-block;line-height: 1.2em;}#sk-container-id-7 div.sk-label-container {text-align: center;}#sk-container-id-7 div.sk-container {/* jupyter's `normalize.less` sets `[hidden] { display: none; }` but bootstrap.min.css set `[hidden] { display: none !important; }` so we also need the `!important` here to be able to override the default hidden behavior on the sphinx rendered scikit-learn.org. See: https://github.com/scikit-learn/scikit-learn/issues/21755 */display: inline-block !important;position: relative;}#sk-container-id-7 div.sk-text-repr-fallback {display: none;}</style><div id=\"sk-container-id-7\" class=\"sk-top-container\"><div class=\"sk-text-repr-fallback\"><pre>Pipeline(steps=[(&#x27;balancing&#x27;, RandomUnderSampler(random_state=1830)),\n",
       "                (&#x27;preprocessing&#x27;,\n",
       "                 FeatureUnion(transformer_list=[(&#x27;text&#x27;,\n",
       "                                                 Pipeline(steps=[(&#x27;text_preprocessing&#x27;,\n",
       "                                                                  ColumnTransformer(transformers=[(&#x27;text1&#x27;,\n",
       "                                                                                                   TfidfVectorizer(max_df=0.8,\n",
       "                                                                                                                   max_features=10000,\n",
       "                                                                                                                   ngram_range=(1,\n",
       "                                                                                                                                3),\n",
       "                                                                                                                   norm=&#x27;l1&#x27;,\n",
       "                                                                                                                   strip_accents=&#x27;unicode&#x27;),\n",
       "                                                                                                   &#x27;world&#x27;),\n",
       "                                                                                                  (&#x27;text2&#x27;,\n",
       "                                                                                                   TfidfVectorizer(max_df=0.8,\n",
       "                                                                                                                   max...\n",
       "                                                                                  [&#x27;?&#x27;])]))])),\n",
       "                [&#x27;dense&#x27;,\n",
       "                 FunctionTransformer(func=&lt;function sparse_to_dense at 0x000001B36C2B2840&gt;)],\n",
       "                [&#x27;classifier&#x27;,\n",
       "                 StackingClassifier(estimators=[(&#x27;rf&#x27;,\n",
       "                                                 RandomForestClassifier(class_weight=&#x27;balanced&#x27;,\n",
       "                                                                        random_state=1830)),\n",
       "                                                (&#x27;gbt&#x27;,\n",
       "                                                 HistGradientBoostingClassifier(random_state=1830)),\n",
       "                                                (&#x27;sgd&#x27;,\n",
       "                                                 SGDClassifier(eta0=1,\n",
       "                                                               random_state=1830))],\n",
       "                                    final_estimator=LogisticRegression())]])</pre><b>In a Jupyter environment, please rerun this cell to show the HTML representation or trust the notebook. <br />On GitHub, the HTML representation is unable to render, please try loading this page with nbviewer.org.</b></div><div class=\"sk-container\" hidden><div class=\"sk-item sk-dashed-wrapped\"><div class=\"sk-label-container\"><div class=\"sk-label sk-toggleable\"><input class=\"sk-toggleable__control sk-hidden--visually\" id=\"sk-estimator-id-114\" type=\"checkbox\" ><label for=\"sk-estimator-id-114\" class=\"sk-toggleable__label sk-toggleable__label-arrow\">Pipeline</label><div class=\"sk-toggleable__content\"><pre>Pipeline(steps=[(&#x27;balancing&#x27;, RandomUnderSampler(random_state=1830)),\n",
       "                (&#x27;preprocessing&#x27;,\n",
       "                 FeatureUnion(transformer_list=[(&#x27;text&#x27;,\n",
       "                                                 Pipeline(steps=[(&#x27;text_preprocessing&#x27;,\n",
       "                                                                  ColumnTransformer(transformers=[(&#x27;text1&#x27;,\n",
       "                                                                                                   TfidfVectorizer(max_df=0.8,\n",
       "                                                                                                                   max_features=10000,\n",
       "                                                                                                                   ngram_range=(1,\n",
       "                                                                                                                                3),\n",
       "                                                                                                                   norm=&#x27;l1&#x27;,\n",
       "                                                                                                                   strip_accents=&#x27;unicode&#x27;),\n",
       "                                                                                                   &#x27;world&#x27;),\n",
       "                                                                                                  (&#x27;text2&#x27;,\n",
       "                                                                                                   TfidfVectorizer(max_df=0.8,\n",
       "                                                                                                                   max...\n",
       "                                                                                  [&#x27;?&#x27;])]))])),\n",
       "                [&#x27;dense&#x27;,\n",
       "                 FunctionTransformer(func=&lt;function sparse_to_dense at 0x000001B36C2B2840&gt;)],\n",
       "                [&#x27;classifier&#x27;,\n",
       "                 StackingClassifier(estimators=[(&#x27;rf&#x27;,\n",
       "                                                 RandomForestClassifier(class_weight=&#x27;balanced&#x27;,\n",
       "                                                                        random_state=1830)),\n",
       "                                                (&#x27;gbt&#x27;,\n",
       "                                                 HistGradientBoostingClassifier(random_state=1830)),\n",
       "                                                (&#x27;sgd&#x27;,\n",
       "                                                 SGDClassifier(eta0=1,\n",
       "                                                               random_state=1830))],\n",
       "                                    final_estimator=LogisticRegression())]])</pre></div></div></div><div class=\"sk-serial\"><div class=\"sk-item\"><div class=\"sk-estimator sk-toggleable\"><input class=\"sk-toggleable__control sk-hidden--visually\" id=\"sk-estimator-id-115\" type=\"checkbox\" ><label for=\"sk-estimator-id-115\" class=\"sk-toggleable__label sk-toggleable__label-arrow\">RandomUnderSampler</label><div class=\"sk-toggleable__content\"><pre>RandomUnderSampler(random_state=1830)</pre></div></div></div><div class=\"sk-item sk-dashed-wrapped\"><div class=\"sk-label-container\"><div class=\"sk-label sk-toggleable\"><input class=\"sk-toggleable__control sk-hidden--visually\" id=\"sk-estimator-id-116\" type=\"checkbox\" ><label for=\"sk-estimator-id-116\" class=\"sk-toggleable__label sk-toggleable__label-arrow\">preprocessing: FeatureUnion</label><div class=\"sk-toggleable__content\"><pre>FeatureUnion(transformer_list=[(&#x27;text&#x27;,\n",
       "                                Pipeline(steps=[(&#x27;text_preprocessing&#x27;,\n",
       "                                                 ColumnTransformer(transformers=[(&#x27;text1&#x27;,\n",
       "                                                                                  TfidfVectorizer(max_df=0.8,\n",
       "                                                                                                  max_features=10000,\n",
       "                                                                                                  ngram_range=(1,\n",
       "                                                                                                               3),\n",
       "                                                                                                  norm=&#x27;l1&#x27;,\n",
       "                                                                                                  strip_accents=&#x27;unicode&#x27;),\n",
       "                                                                                  &#x27;world&#x27;),\n",
       "                                                                                 (&#x27;text2&#x27;,\n",
       "                                                                                  TfidfVectorizer(max_df=0.8,\n",
       "                                                                                                  max_features=10000,\n",
       "                                                                                                  ngram_range=(1,\n",
       "                                                                                                               3),\n",
       "                                                                                                  norm=&#x27;l1&#x27;,\n",
       "                                                                                                  strip_accents=&#x27;unicode&#x27;),\n",
       "                                                                                  &#x27;!&#x27;),\n",
       "                                                                                 (&#x27;text3&#x27;,\n",
       "                                                                                  Tf...\n",
       "                                                                                                  norm=&#x27;l1&#x27;,\n",
       "                                                                                                  strip_accents=&#x27;unicode&#x27;),\n",
       "                                                                                  &#x27;life&#x27;)])),\n",
       "                                                (&#x27;selectkbest&#x27;,\n",
       "                                                 SelectKBest(k=1000,\n",
       "                                                             score_func=&lt;function chi2 at 0x000001B36BE92CA0&gt;))])),\n",
       "                               (&#x27;num&#x27;,\n",
       "                                ColumnTransformer(transformers=[(&#x27;num&#x27;,\n",
       "                                                                 Pipeline(steps=[(&#x27;imputer&#x27;,\n",
       "                                                                                  IterativeImputer(random_state=1830)),\n",
       "                                                                                 (&#x27;scaler&#x27;,\n",
       "                                                                                  RobustScaler())]),\n",
       "                                                                 [&#x27;hello&#x27;])])),\n",
       "                               (&#x27;cat&#x27;,\n",
       "                                ColumnTransformer(transformers=[(&#x27;cat&#x27;,\n",
       "                                                                 OneHotEncoder(),\n",
       "                                                                 [&#x27;?&#x27;])]))])</pre></div></div></div><div class=\"sk-parallel\"><div class=\"sk-parallel-item\"><div class=\"sk-item\"><div class=\"sk-label-container\"><div class=\"sk-label sk-toggleable\"><label>text</label></div></div><div class=\"sk-serial\"><div class=\"sk-item\"><div class=\"sk-serial\"><div class=\"sk-item sk-dashed-wrapped\"><div class=\"sk-label-container\"><div class=\"sk-label sk-toggleable\"><input class=\"sk-toggleable__control sk-hidden--visually\" id=\"sk-estimator-id-117\" type=\"checkbox\" ><label for=\"sk-estimator-id-117\" class=\"sk-toggleable__label sk-toggleable__label-arrow\">text_preprocessing: ColumnTransformer</label><div class=\"sk-toggleable__content\"><pre>ColumnTransformer(transformers=[(&#x27;text1&#x27;,\n",
       "                                 TfidfVectorizer(max_df=0.8, max_features=10000,\n",
       "                                                 ngram_range=(1, 3), norm=&#x27;l1&#x27;,\n",
       "                                                 strip_accents=&#x27;unicode&#x27;),\n",
       "                                 &#x27;world&#x27;),\n",
       "                                (&#x27;text2&#x27;,\n",
       "                                 TfidfVectorizer(max_df=0.8, max_features=10000,\n",
       "                                                 ngram_range=(1, 3), norm=&#x27;l1&#x27;,\n",
       "                                                 strip_accents=&#x27;unicode&#x27;),\n",
       "                                 &#x27;!&#x27;),\n",
       "                                (&#x27;text3&#x27;,\n",
       "                                 TfidfVectorizer(max_df=0.8, max_features=10000,\n",
       "                                                 ngram_range=(1, 3), norm=&#x27;l1&#x27;,\n",
       "                                                 strip_accents=&#x27;unicode&#x27;),\n",
       "                                 &#x27;life&#x27;)])</pre></div></div></div><div class=\"sk-parallel\"><div class=\"sk-parallel-item\"><div class=\"sk-item\"><div class=\"sk-label-container\"><div class=\"sk-label sk-toggleable\"><input class=\"sk-toggleable__control sk-hidden--visually\" id=\"sk-estimator-id-118\" type=\"checkbox\" ><label for=\"sk-estimator-id-118\" class=\"sk-toggleable__label sk-toggleable__label-arrow\">text1</label><div class=\"sk-toggleable__content\"><pre>world</pre></div></div></div><div class=\"sk-serial\"><div class=\"sk-item\"><div class=\"sk-estimator sk-toggleable\"><input class=\"sk-toggleable__control sk-hidden--visually\" id=\"sk-estimator-id-119\" type=\"checkbox\" ><label for=\"sk-estimator-id-119\" class=\"sk-toggleable__label sk-toggleable__label-arrow\">TfidfVectorizer</label><div class=\"sk-toggleable__content\"><pre>TfidfVectorizer(max_df=0.8, max_features=10000, ngram_range=(1, 3), norm=&#x27;l1&#x27;,\n",
       "                strip_accents=&#x27;unicode&#x27;)</pre></div></div></div></div></div></div><div class=\"sk-parallel-item\"><div class=\"sk-item\"><div class=\"sk-label-container\"><div class=\"sk-label sk-toggleable\"><input class=\"sk-toggleable__control sk-hidden--visually\" id=\"sk-estimator-id-120\" type=\"checkbox\" ><label for=\"sk-estimator-id-120\" class=\"sk-toggleable__label sk-toggleable__label-arrow\">text2</label><div class=\"sk-toggleable__content\"><pre>!</pre></div></div></div><div class=\"sk-serial\"><div class=\"sk-item\"><div class=\"sk-estimator sk-toggleable\"><input class=\"sk-toggleable__control sk-hidden--visually\" id=\"sk-estimator-id-121\" type=\"checkbox\" ><label for=\"sk-estimator-id-121\" class=\"sk-toggleable__label sk-toggleable__label-arrow\">TfidfVectorizer</label><div class=\"sk-toggleable__content\"><pre>TfidfVectorizer(max_df=0.8, max_features=10000, ngram_range=(1, 3), norm=&#x27;l1&#x27;,\n",
       "                strip_accents=&#x27;unicode&#x27;)</pre></div></div></div></div></div></div><div class=\"sk-parallel-item\"><div class=\"sk-item\"><div class=\"sk-label-container\"><div class=\"sk-label sk-toggleable\"><input class=\"sk-toggleable__control sk-hidden--visually\" id=\"sk-estimator-id-122\" type=\"checkbox\" ><label for=\"sk-estimator-id-122\" class=\"sk-toggleable__label sk-toggleable__label-arrow\">text3</label><div class=\"sk-toggleable__content\"><pre>life</pre></div></div></div><div class=\"sk-serial\"><div class=\"sk-item\"><div class=\"sk-estimator sk-toggleable\"><input class=\"sk-toggleable__control sk-hidden--visually\" id=\"sk-estimator-id-123\" type=\"checkbox\" ><label for=\"sk-estimator-id-123\" class=\"sk-toggleable__label sk-toggleable__label-arrow\">TfidfVectorizer</label><div class=\"sk-toggleable__content\"><pre>TfidfVectorizer(max_df=0.8, max_features=10000, ngram_range=(1, 3), norm=&#x27;l1&#x27;,\n",
       "                strip_accents=&#x27;unicode&#x27;)</pre></div></div></div></div></div></div></div></div><div class=\"sk-item\"><div class=\"sk-estimator sk-toggleable\"><input class=\"sk-toggleable__control sk-hidden--visually\" id=\"sk-estimator-id-124\" type=\"checkbox\" ><label for=\"sk-estimator-id-124\" class=\"sk-toggleable__label sk-toggleable__label-arrow\">SelectKBest</label><div class=\"sk-toggleable__content\"><pre>SelectKBest(k=1000, score_func=&lt;function chi2 at 0x000001B36BE92CA0&gt;)</pre></div></div></div></div></div></div></div></div><div class=\"sk-parallel-item\"><div class=\"sk-item\"><div class=\"sk-label-container\"><div class=\"sk-label sk-toggleable\"><label>num</label></div></div><div class=\"sk-serial\"><div class=\"sk-item sk-dashed-wrapped\"><div class=\"sk-parallel\"><div class=\"sk-parallel-item\"><div class=\"sk-item\"><div class=\"sk-label-container\"><div class=\"sk-label sk-toggleable\"><input class=\"sk-toggleable__control sk-hidden--visually\" id=\"sk-estimator-id-125\" type=\"checkbox\" ><label for=\"sk-estimator-id-125\" class=\"sk-toggleable__label sk-toggleable__label-arrow\">num</label><div class=\"sk-toggleable__content\"><pre>[&#x27;hello&#x27;]</pre></div></div></div><div class=\"sk-serial\"><div class=\"sk-item\"><div class=\"sk-serial\"><div class=\"sk-item\"><div class=\"sk-estimator sk-toggleable\"><input class=\"sk-toggleable__control sk-hidden--visually\" id=\"sk-estimator-id-126\" type=\"checkbox\" ><label for=\"sk-estimator-id-126\" class=\"sk-toggleable__label sk-toggleable__label-arrow\">IterativeImputer</label><div class=\"sk-toggleable__content\"><pre>IterativeImputer(random_state=1830)</pre></div></div></div><div class=\"sk-item\"><div class=\"sk-estimator sk-toggleable\"><input class=\"sk-toggleable__control sk-hidden--visually\" id=\"sk-estimator-id-127\" type=\"checkbox\" ><label for=\"sk-estimator-id-127\" class=\"sk-toggleable__label sk-toggleable__label-arrow\">RobustScaler</label><div class=\"sk-toggleable__content\"><pre>RobustScaler()</pre></div></div></div></div></div></div></div></div></div></div></div></div></div><div class=\"sk-parallel-item\"><div class=\"sk-item\"><div class=\"sk-label-container\"><div class=\"sk-label sk-toggleable\"><label>cat</label></div></div><div class=\"sk-serial\"><div class=\"sk-item sk-dashed-wrapped\"><div class=\"sk-parallel\"><div class=\"sk-parallel-item\"><div class=\"sk-item\"><div class=\"sk-label-container\"><div class=\"sk-label sk-toggleable\"><input class=\"sk-toggleable__control sk-hidden--visually\" id=\"sk-estimator-id-128\" type=\"checkbox\" ><label for=\"sk-estimator-id-128\" class=\"sk-toggleable__label sk-toggleable__label-arrow\">cat</label><div class=\"sk-toggleable__content\"><pre>[&#x27;?&#x27;]</pre></div></div></div><div class=\"sk-serial\"><div class=\"sk-item\"><div class=\"sk-estimator sk-toggleable\"><input class=\"sk-toggleable__control sk-hidden--visually\" id=\"sk-estimator-id-129\" type=\"checkbox\" ><label for=\"sk-estimator-id-129\" class=\"sk-toggleable__label sk-toggleable__label-arrow\">OneHotEncoder</label><div class=\"sk-toggleable__content\"><pre>OneHotEncoder()</pre></div></div></div></div></div></div></div></div></div></div></div></div></div><div class=\"sk-item\"><div class=\"sk-estimator sk-toggleable\"><input class=\"sk-toggleable__control sk-hidden--visually\" id=\"sk-estimator-id-130\" type=\"checkbox\" ><label for=\"sk-estimator-id-130\" class=\"sk-toggleable__label sk-toggleable__label-arrow\">FunctionTransformer</label><div class=\"sk-toggleable__content\"><pre>FunctionTransformer(func=&lt;function sparse_to_dense at 0x000001B36C2B2840&gt;)</pre></div></div></div><div class=\"sk-item\"><div class=\"sk-label-container\"><div class=\"sk-label sk-toggleable\"><input class=\"sk-toggleable__control sk-hidden--visually\" id=\"sk-estimator-id-131\" type=\"checkbox\" ><label for=\"sk-estimator-id-131\" class=\"sk-toggleable__label sk-toggleable__label-arrow\">classifier: StackingClassifier</label><div class=\"sk-toggleable__content\"><pre>StackingClassifier(estimators=[(&#x27;rf&#x27;,\n",
       "                                RandomForestClassifier(class_weight=&#x27;balanced&#x27;,\n",
       "                                                       random_state=1830)),\n",
       "                               (&#x27;gbt&#x27;,\n",
       "                                HistGradientBoostingClassifier(random_state=1830)),\n",
       "                               (&#x27;sgd&#x27;,\n",
       "                                SGDClassifier(eta0=1, random_state=1830))],\n",
       "                   final_estimator=LogisticRegression())</pre></div></div></div><div class=\"sk-serial\"><div class=\"sk-item\"><div class=\"sk-parallel\"><div class=\"sk-parallel-item\"><div class=\"sk-item\"><div class=\"sk-label-container\"><div class=\"sk-label sk-toggleable\"><label>rf</label></div></div><div class=\"sk-serial\"><div class=\"sk-item\"><div class=\"sk-estimator sk-toggleable\"><input class=\"sk-toggleable__control sk-hidden--visually\" id=\"sk-estimator-id-132\" type=\"checkbox\" ><label for=\"sk-estimator-id-132\" class=\"sk-toggleable__label sk-toggleable__label-arrow\">RandomForestClassifier</label><div class=\"sk-toggleable__content\"><pre>RandomForestClassifier(class_weight=&#x27;balanced&#x27;, random_state=1830)</pre></div></div></div></div></div></div><div class=\"sk-parallel-item\"><div class=\"sk-item\"><div class=\"sk-label-container\"><div class=\"sk-label sk-toggleable\"><label>gbt</label></div></div><div class=\"sk-serial\"><div class=\"sk-item\"><div class=\"sk-estimator sk-toggleable\"><input class=\"sk-toggleable__control sk-hidden--visually\" id=\"sk-estimator-id-133\" type=\"checkbox\" ><label for=\"sk-estimator-id-133\" class=\"sk-toggleable__label sk-toggleable__label-arrow\">HistGradientBoostingClassifier</label><div class=\"sk-toggleable__content\"><pre>HistGradientBoostingClassifier(random_state=1830)</pre></div></div></div></div></div></div><div class=\"sk-parallel-item\"><div class=\"sk-item\"><div class=\"sk-label-container\"><div class=\"sk-label sk-toggleable\"><label>sgd</label></div></div><div class=\"sk-serial\"><div class=\"sk-item\"><div class=\"sk-estimator sk-toggleable\"><input class=\"sk-toggleable__control sk-hidden--visually\" id=\"sk-estimator-id-134\" type=\"checkbox\" ><label for=\"sk-estimator-id-134\" class=\"sk-toggleable__label sk-toggleable__label-arrow\">SGDClassifier</label><div class=\"sk-toggleable__content\"><pre>SGDClassifier(eta0=1, random_state=1830)</pre></div></div></div></div></div></div></div></div><div class=\"sk-item\"><div class=\"sk-parallel\"><div class=\"sk-parallel-item\"><div class=\"sk-item\"><div class=\"sk-label-container\"><div class=\"sk-label sk-toggleable\"><label>final_estimator</label></div></div><div class=\"sk-serial\"><div class=\"sk-item\"><div class=\"sk-estimator sk-toggleable\"><input class=\"sk-toggleable__control sk-hidden--visually\" id=\"sk-estimator-id-135\" type=\"checkbox\" ><label for=\"sk-estimator-id-135\" class=\"sk-toggleable__label sk-toggleable__label-arrow\">LogisticRegression</label><div class=\"sk-toggleable__content\"><pre>LogisticRegression()</pre></div></div></div></div></div></div></div></div></div></div></div></div></div></div>"
      ],
      "text/plain": [
       "Pipeline(steps=[('balancing', RandomUnderSampler(random_state=1830)),\n",
       "                ('preprocessing',\n",
       "                 FeatureUnion(transformer_list=[('text',\n",
       "                                                 Pipeline(steps=[('text_preprocessing',\n",
       "                                                                  ColumnTransformer(transformers=[('text1',\n",
       "                                                                                                   TfidfVectorizer(max_df=0.8,\n",
       "                                                                                                                   max_features=10000,\n",
       "                                                                                                                   ngram_range=(1,\n",
       "                                                                                                                                3),\n",
       "                                                                                                                   norm='l1',\n",
       "                                                                                                                   strip_accents='unicode'),\n",
       "                                                                                                   'world'),\n",
       "                                                                                                  ('text2',\n",
       "                                                                                                   TfidfVectorizer(max_df=0.8,\n",
       "                                                                                                                   max...\n",
       "                                                                                  ['?'])]))])),\n",
       "                ['dense',\n",
       "                 FunctionTransformer(func=<function sparse_to_dense at 0x000001B36C2B2840>)],\n",
       "                ['classifier',\n",
       "                 StackingClassifier(estimators=[('rf',\n",
       "                                                 RandomForestClassifier(class_weight='balanced',\n",
       "                                                                        random_state=1830)),\n",
       "                                                ('gbt',\n",
       "                                                 HistGradientBoostingClassifier(random_state=1830)),\n",
       "                                                ('sgd',\n",
       "                                                 SGDClassifier(eta0=1,\n",
       "                                                               random_state=1830))],\n",
       "                                    final_estimator=LogisticRegression())]])"
      ]
     },
     "execution_count": 16,
     "metadata": {},
     "output_type": "execute_result"
    }
   ],
   "source": [
    "pipe = build_pipeline([\"hello\"], [\"world\", \"!\", \"life\"], [\"?\"], classifier=\"stacked\")\n",
    "pipe"
   ]
  },
  {
   "cell_type": "code",
   "execution_count": 145,
   "metadata": {},
   "outputs": [
    {
     "data": {
      "text/plain": [
       "False"
      ]
     },
     "execution_count": 145,
     "metadata": {},
     "output_type": "execute_result"
    }
   ],
   "source": []
  },
  {
   "cell_type": "code",
   "execution_count": 3,
   "metadata": {},
   "outputs": [
    {
     "data": {
      "text/plain": [
       "(array([ 0.        ,  0.10083842,  0.20064886,  0.2984138 ,  0.39313661,\n",
       "         0.48385164,  0.56963411,  0.64960951,  0.72296256,  0.78894546,\n",
       "         0.84688556,  0.8961922 ,  0.93636273,  0.96698762,  0.98775469,\n",
       "         0.99845223,  0.99897117,  0.98930624,  0.96955595,  0.93992165,\n",
       "         0.90070545,  0.85230712,  0.79522006,  0.73002623,  0.65739025,\n",
       "         0.57805259,  0.49282204,  0.40256749,  0.30820902,  0.21070855,\n",
       "         0.11106004,  0.01027934, -0.09060615, -0.19056796, -0.28858706,\n",
       "        -0.38366419, -0.47483011, -0.56115544, -0.64176014, -0.7158225 ,\n",
       "        -0.7825875 , -0.84137452, -0.89158426, -0.93270486, -0.96431712,\n",
       "        -0.98609877, -0.99782778, -0.99938456, -0.99075324, -0.97202182,\n",
       "        -0.94338126, -0.90512352, -0.85763861, -0.80141062, -0.73701276,\n",
       "        -0.66510151, -0.58640998, -0.50174037, -0.41195583, -0.31797166,\n",
       "        -0.22074597, -0.12126992, -0.0205576 ,  0.0803643 ,  0.18046693,\n",
       "         0.27872982,  0.37415123,  0.46575841,  0.55261747,  0.63384295,\n",
       "         0.7086068 ,  0.77614685,  0.83577457,  0.8868821 ,  0.92894843,\n",
       "         0.96154471,  0.98433866,  0.99709789,  0.99969234,  0.99209556,\n",
       "         0.97438499,  0.94674118,  0.90944594,  0.86287948,  0.8075165 ,\n",
       "         0.74392141,  0.6727425 ,  0.59470541,  0.51060568,  0.42130064,\n",
       "         0.32770071,  0.23076008,  0.13146699,  0.03083368, -0.07011396,\n",
       "        -0.17034683, -0.26884313, -0.36459873, -0.45663749, -0.54402111]),\n",
       " array([ 1.        ,  0.99490282,  0.97966323,  0.95443659,  0.91948007,\n",
       "         0.87515004,  0.8218984 ,  0.76026803,  0.69088721,  0.61446323,\n",
       "         0.53177518,  0.44366602,  0.35103397,  0.25482335,  0.15601496,\n",
       "         0.0556161 , -0.04534973, -0.14585325, -0.24486989, -0.34139023,\n",
       "        -0.43443032, -0.52304166, -0.60632092, -0.68341913, -0.75355031,\n",
       "        -0.81599952, -0.87013012, -0.91539031, -0.95131866, -0.97754893,\n",
       "        -0.9938137 , -0.99994717, -0.9958868 , -0.981674  , -0.95745366,\n",
       "        -0.92347268, -0.88007748, -0.82771044, -0.76690542, -0.69828229,\n",
       "        -0.6225406 , -0.54045251, -0.45285485, -0.36064061, -0.26474988,\n",
       "        -0.16616018, -0.06587659,  0.03507857,  0.13567613,  0.23489055,\n",
       "         0.33171042,  0.4251487 ,  0.51425287,  0.59811455,  0.67587883,\n",
       "         0.74675295,  0.8100144 ,  0.86501827,  0.91120382,  0.94810022,\n",
       "         0.97533134,  0.99261957,  0.99978867,  0.99676556,  0.98358105,\n",
       "         0.96036956,  0.9273677 ,  0.88491192,  0.83343502,  0.77346177,\n",
       "         0.70560358,  0.63055219,  0.54907273,  0.46199582,  0.37020915,\n",
       "         0.27464844,  0.17628785,  0.07613012, -0.0248037 , -0.12548467,\n",
       "        -0.2248864 , -0.32199555, -0.41582217, -0.50540974, -0.58984498,\n",
       "        -0.66826712, -0.7398767 , -0.8039437 , -0.859815  , -0.90692104,\n",
       "        -0.94478159, -0.97301068, -0.99132055, -0.99952453, -0.99753899,\n",
       "        -0.98538417, -0.96318398, -0.93116473, -0.88965286, -0.83907153]))"
      ]
     },
     "execution_count": 3,
     "metadata": {},
     "output_type": "execute_result"
    }
   ],
   "source": [
    "tuple([data1, data2])"
   ]
  }
 ],
 "metadata": {
  "kernelspec": {
   "display_name": "basic_env",
   "language": "python",
   "name": "python3"
  },
  "language_info": {
   "codemirror_mode": {
    "name": "ipython",
    "version": 3
   },
   "file_extension": ".py",
   "mimetype": "text/x-python",
   "name": "python",
   "nbconvert_exporter": "python",
   "pygments_lexer": "ipython3",
   "version": "3.11.4"
  },
  "orig_nbformat": 4
 },
 "nbformat": 4,
 "nbformat_minor": 2
}
